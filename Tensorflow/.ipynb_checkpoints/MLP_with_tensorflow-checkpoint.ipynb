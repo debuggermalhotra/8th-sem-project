{
 "cells": [
  {
   "cell_type": "markdown",
   "metadata": {},
   "source": [
    "## What is TensorFlow?"
   ]
  },
  {
   "cell_type": "markdown",
   "metadata": {},
   "source": [
    "According to TensorFlow's official website, “TensorFlow is an open source software library for numerical computation using dataflow graphs. Nodes in the graph represents mathematical operations, while graph edges represent multi-dimensional data arrays (aka tensors) communicated between them. The flexible architecture allows us to deploy computation to one or more CPUs or GPUs in a desktop, server, or mobile device with a single API.”"
   ]
  },
  {
   "cell_type": "markdown",
   "metadata": {},
   "source": [
    "![tensorflow](images/tensors_flowing-3.gif)"
   ]
  },
  {
   "cell_type": "markdown",
   "metadata": {},
   "source": [
    "It’s easy to classify TensorFlow as a neural network library, but it’s not just that. Yes, it was designed to be a powerful neural network library. But it has the power to do much more than that. We can build other machine learning algorithms on it such as decision trees or k-Nearest Neighbors. We can literally do everything we normally would do in numpy! It’s aptly called “numpy on steroids” by the open-source community"
   ]
  },
  {
   "cell_type": "markdown",
   "metadata": {},
   "source": [
    "##### The advantages of using TensorFlow are:\n",
    "\n",
    "1. It has an intuitive construct, because as the name suggests it has “flow of tensors”. \n",
    "2. we can easily visualize each and every part of the graph.\n",
    "3. Easily train on cpu/gpu for distributed computing\n",
    "4. Platform flexibility. We can run the models wherever we want, whether it is on mobile, server or PC."
   ]
  },
  {
   "cell_type": "markdown",
   "metadata": {},
   "source": [
    "### The usual workflow of running a program in TensorFlow is as follows:\n",
    "\n",
    "1. Build a computational graph, this can be any mathematical operation TensorFlow supports.\n",
    "2. Initialize variables, to compile the variables defined previously\n",
    "3. Create session, this is where we start implementing the model or algorithm\n",
    "4. Run graph in session: the compiled graph is passed to the session, which starts its execution. \n",
    "5. Close session"
   ]
  },
  {
   "cell_type": "markdown",
   "metadata": {},
   "source": [
    "### Before starting, few terminologies for tensorflow:\n",
    "\n",
    "* Placeholder-A way to feed data into the graphs\n",
    "* feed_dict-A dictionary to pass numeric values to computational graph"
   ]
  },
  {
   "cell_type": "markdown",
   "metadata": {},
   "source": [
    "Just to get acquainted I am gonna write a program using tensorflow to add two numbers"
   ]
  },
  {
   "cell_type": "code",
   "execution_count": 8,
   "metadata": {},
   "outputs": [
    {
     "name": "stdout",
     "output_type": "stream",
     "text": [
      "Sum: 5\n"
     ]
    }
   ],
   "source": [
    "#importing tensorflow\n",
    "import tensorflow as tf\n",
    "\n",
    "#buiding a computational graph\n",
    "a=tf.placeholder(tf.int16)\n",
    "b=tf.placeholder(tf.int16)\n",
    "\n",
    "sum = tf.add(a,b)\n",
    "\n",
    "#initializing variables\n",
    "init = tf.global_variables_initializer()\n",
    "\n",
    "#starting the session and running the graph \n",
    "with tf.Session() as sess:\n",
    "    sess.run(init)\n",
    "    print(\"Sum: %i\" % sess.run(sum, feed_dict={a:2, b:3}))\n",
    "          \n",
    "#closing the session\n",
    "sess.close()"
   ]
  },
  {
   "cell_type": "markdown",
   "metadata": {},
   "source": [
    "## Implementig a Feed Forward Multi-Layer Perceptron Neural Network"
   ]
  },
  {
   "cell_type": "markdown",
   "metadata": {},
   "source": [
    "### A typical implementation of a Neural Network is as follows:\n",
    "\n",
    "* Define Neural Network architecture to be compiled\n",
    "* Transfer data to your model\n",
    "* Under the hood, the data is first divided into batches, so that it can be ingested. The batches are first preprocessed, augmented and then fed into Neural Network for training\n",
    "* The model then gets trained incrementally\n",
    "* Display the accuracy for a specific number of timesteps\n",
    "* After training save the model for future use\n",
    "* Test the model on a new data and check how it performs"
   ]
  },
  {
   "cell_type": "markdown",
   "metadata": {},
   "source": [
    "This is handwritten digit recognition, to identify digits from a given 28 x 28 image"
   ]
  },
  {
   "cell_type": "code",
   "execution_count": null,
   "metadata": {
    "collapsed": true
   },
   "outputs": [],
   "source": []
  }
 ],
 "metadata": {
  "kernelspec": {
   "display_name": "Python 3",
   "language": "python",
   "name": "python3"
  },
  "language_info": {
   "codemirror_mode": {
    "name": "ipython",
    "version": 3
   },
   "file_extension": ".py",
   "mimetype": "text/x-python",
   "name": "python",
   "nbconvert_exporter": "python",
   "pygments_lexer": "ipython3",
   "version": "3.6.3"
  }
 },
 "nbformat": 4,
 "nbformat_minor": 2
}
